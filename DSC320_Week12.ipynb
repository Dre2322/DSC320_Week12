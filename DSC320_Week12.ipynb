{
 "cells": [
  {
   "cell_type": "code",
   "execution_count": 1,
   "id": "205cdeb5",
   "metadata": {},
   "outputs": [
    {
     "name": "stdout",
     "output_type": "stream",
     "text": [
      "The probability of defective is 1.50 %\n"
     ]
    }
   ],
   "source": [
    "# 1. Calculating Probabilities using Bayes’ Theorem\n",
    "# a\n",
    "\n",
    "# Define the probabilities\n",
    "P_A = 0.5\n",
    "P_D = 0.03\n",
    "\n",
    "# Find the probability of defective\n",
    "prob_defective = P_A * P_D\n",
    "\n",
    "# Print the result\n",
    "print(f\"The probability of defective is {(prob_defective * 100):.2f} %\")"
   ]
  },
  {
   "cell_type": "code",
   "execution_count": 2,
   "id": "8fd34aa4",
   "metadata": {},
   "outputs": [
    {
     "name": "stdout",
     "output_type": "stream",
     "text": [
      "The probability of defective is 19.20 %\n"
     ]
    }
   ],
   "source": [
    "# b\n",
    "\n",
    "# Define the probabilities\n",
    "P_C = 0.2\n",
    "P_ND = 0.96\n",
    "\n",
    "# Find the probability of not defective\n",
    "prob_not_defective = P_C * P_ND\n",
    "\n",
    "# Print the result\n",
    "print(f\"The probability of defective is {(prob_not_defective * 100):.2f} %\")"
   ]
  },
  {
   "cell_type": "code",
   "execution_count": 3,
   "id": "c93cbd0b",
   "metadata": {},
   "outputs": [],
   "source": [
    "# 2. Entropy Function for a Probability Distribution\n",
    "\n",
    "import numpy as np\n",
    "\n",
    "def entropy(p):\n",
    "  \"\"\"Calculates the entropy of a probability distribution.\n",
    "\n",
    "  Args:\n",
    "    p: A NumPy array of probabilities.\n",
    "\n",
    "  Returns:\n",
    "    The entropy of the distribution.\n",
    "  \"\"\"\n",
    "\n",
    "  # Check that the probabilities sum to 1.\n",
    "\n",
    "  if not np.isclose(np.sum(p), 1):\n",
    "    raise ValueError(\"Probabilities must sum to 1.\")\n",
    "\n",
    "  # Calculate the entropy.\n",
    "\n",
    "  entropy = -np.sum(p * np.log2(p))\n",
    "\n",
    "  return entropy\n"
   ]
  },
  {
   "cell_type": "code",
   "execution_count": 4,
   "id": "58f6b043",
   "metadata": {},
   "outputs": [
    {
     "name": "stdout",
     "output_type": "stream",
     "text": [
      "Entropy of X: 2.321928094887362\n",
      "Entropy of Y: 2.046439344671015\n"
     ]
    }
   ],
   "source": [
    "# 3. Calculating Entropies of Probability Distributions\n",
    "# a\n",
    "\n",
    "# random variable X\n",
    "X = np.array([1, 2, 3, 4, 5])\n",
    "\n",
    "# probabilities of X\n",
    "X_p = np.array([0.2, 0.2, 0.2, 0.2, 0.2])\n",
    "\n",
    "# random variable Y\n",
    "Y = np.array([1, 2, 3, 4, 5])\n",
    "\n",
    "# probabilities of Y\n",
    "Y_p = np.array([0.1, 0.4, 0.1, 0.3, 0.1])\n",
    "\n",
    "# calculate the entropy of X\n",
    "X_entropy = entropy(X_p)\n",
    "\n",
    "# calculate the entropy of Y\n",
    "Y_entropy = entropy(Y_p)\n",
    "\n",
    "# print the entropy of X and Y\n",
    "print(\"Entropy of X:\", X_entropy)\n",
    "print(\"Entropy of Y:\", Y_entropy)"
   ]
  },
  {
   "cell_type": "code",
   "execution_count": null,
   "id": "e3c3600c",
   "metadata": {},
   "outputs": [],
   "source": [
    "# b\n",
    "# Entropy measures the amount of surprise and data in a variable. In information theory, \n",
    "# a random variable's entropy reflects the average uncertainty level in its possible outcomes. \n",
    "# Events with higher uncertainty have higher entropy.\n"
   ]
  }
 ],
 "metadata": {
  "kernelspec": {
   "display_name": "Python 3 (ipykernel)",
   "language": "python",
   "name": "python3"
  },
  "language_info": {
   "codemirror_mode": {
    "name": "ipython",
    "version": 3
   },
   "file_extension": ".py",
   "mimetype": "text/x-python",
   "name": "python",
   "nbconvert_exporter": "python",
   "pygments_lexer": "ipython3",
   "version": "3.11.5"
  }
 },
 "nbformat": 4,
 "nbformat_minor": 5
}
